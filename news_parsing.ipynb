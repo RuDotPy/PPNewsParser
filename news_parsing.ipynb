{
 "cells": [
  {
   "cell_type": "code",
   "execution_count": 200,
   "metadata": {
    "collapsed": true
   },
   "outputs": [],
   "source": [
    "import requests as r\n",
    "import pandas as pd\n",
    "from pandas import DataFrame"
   ]
  },
  {
   "cell_type": "markdown",
   "source": [
    "# Парсим Telecomdaily"
   ],
   "metadata": {
    "collapsed": false
   }
  },
  {
   "cell_type": "code",
   "execution_count": 201,
   "outputs": [],
   "source": [
    "resp = r.get('https://telecomdaily.ru/api/news/main_page_news/10000')"
   ],
   "metadata": {
    "collapsed": false
   }
  },
  {
   "cell_type": "code",
   "execution_count": 202,
   "outputs": [],
   "source": [
    "news_json = resp.json()"
   ],
   "metadata": {
    "collapsed": false
   }
  },
  {
   "cell_type": "code",
   "execution_count": 203,
   "outputs": [
    {
     "data": {
      "text/plain": "         id                                              title  \\\n0     61050            «Цифра» отминусовала финского акционера   \n1     61049                    Россия готовится к киберучениям   \n2     61041                 Умные счетчики – только российские   \n3     61038  Евгений Антохов: как «подружить науку с бизнесом»   \n4     61039                    «Почта России» меняет стратегию   \n...     ...                                                ...   \n9995  31799                           Инновации для школьников   \n9996  31798                        Inoventica поделилась сетью   \n9997  31797                 Sony Xperia Z2: все лучше и лучше.   \n9998  31789                     Блогеры перепутали Yota с Yota   \n9999  31790                          ФГУПы закупятся по-новому   \n\n                                             annotation body  \\\n0     Из числа совладельцев IT-группы «Цифра» вышла ...        \n1     Россия проведет новые киберучения в третьем-че...        \n2     Уже через год умные приборы учета в России буд...        \n3     О том, что на самом деле сдерживает коммерциал...        \n4     «Почта России» в первом квартале 2023 года пре...        \n...                                                 ...  ...   \n9995  Компания Intel, уже более 10 лет реализующая в...        \n9996  Головная компания группы Inoventica, ЗАО «Комм...        \n9997  Компания Sony Mobile приняла решение выпускать...        \n9998  В рунете разгорается очередной скандал. Вслед ...        \n9999  Подведомственные Минкомсвязи \"Почта России\" и ...        \n\n                           rubrics rubricsUrlAlias  \\\n0                         [Ритейл]              []   \n1                        [Хостинг]              []   \n2             [Наука и технологии]              []   \n3       [Наука и технологии, Идеи]              []   \n4                         [Ритейл]              []   \n...                            ...             ...   \n9995          [Наука и технологии]              []   \n9996                       [Связь]              []   \n9997  [Ритейл, Наука и технологии]              []   \n9998                       [Связь]              []   \n9999                       [Связь]              []   \n\n                           mainTags mainTagsUrlAlias tags tagsUrlAlias  \\\n0                    [PRO Компании]               []   []           []   \n1                    [PRO Компании]               []   []           []   \n2                    [PRO Компании]               []   []           []   \n3                    [PRO Компании]               []   []           []   \n4                    [PRO Компании]               []   []           []   \n...                             ...              ...  ...          ...   \n9995                 [PRO Компании]               []   []           []   \n9996                [PRO Абонентов]               []   []           []   \n9997        [PRO Компании, Гаджеты]               []   []           []   \n9998                 [PRO Компании]               []   []           []   \n9999  [PRO Компании, PRO Абонентов]               []   []           []   \n\n     authors authorsUrlAlias         createdAt         publishAt  views  \\\n0                         []  03.02.2023 17:47  03.02.2023 16:00   1010   \n1                         []  03.02.2023 17:20  03.02.2023 15:00   1103   \n2                         []  02.02.2023 18:42  02.02.2023 18:40   1699   \n3                         []  02.02.2023 13:22  02.02.2023 13:09   1660   \n4                         []  02.02.2023 13:24  02.02.2023 13:00   1681   \n...      ...             ...               ...               ...    ...   \n9995                      []  23.05.2014 07:32  23.05.2014 07:32   1645   \n9996                      []  23.05.2014 07:22  23.05.2014 07:22   1599   \n9997                      []  23.05.2014 07:02  23.05.2014 07:02   1460   \n9998                      []  22.05.2014 08:22  22.05.2014 08:22   2263   \n9999                      []  22.05.2014 08:22  22.05.2014 08:22    550   \n\n      comments                                           urlAlias blockType  \\\n0            0   2023/02/03/cifra-otminusovala-finskogo-akcionera             \n1            0     2023/02/03/rossiya-gotovitsya-k-kiberucheniyam             \n2            0       2023/02/02/umnye-schetchiki-tolko-rossiyskie             \n3            0  2023/02/02/evgeniy-antohov-kak-podruzhit-nauku...             \n4            0        2023/02/02/pochta-rossii-menyaet-strategiyu             \n...        ...                                                ...       ...   \n9995         0               2014/05/23/innovacii-dlya-shkolnikov             \n9996         0              2014/05/23/inoventica-podelilas-setyu             \n9997         0    2014/05/23/sony-xperia-z2-vse-luchshe-i-luchshe             \n9998         0          2014/05/22/blogery-pereputali-yota-s-yota             \n9999         0             2014/05/22/fgupy-zakupyatsya-po-novomu             \n\n                                            teaserImage  \n0     {'srcHdBig': '/upload/img/news/teaser/63dd1e92...  \n1     {'srcHdBig': '/upload/img/news/teaser/63dd1836...  \n2     {'srcHdBig': '/upload/img/news/teaser/63dbd9f7...  \n3     {'srcHdBig': '/upload/img/news/teaser/63db8ecd...  \n4     {'srcHdBig': '/upload/img/news/teaser/63db8f67...  \n...                                                 ...  \n9995  {'srcHdBig': '/upload/img/news-default-large.j...  \n9996  {'srcHdBig': '/upload/img/news-default-large.j...  \n9997  {'srcHdBig': '/upload/img/news-default-large.j...  \n9998  {'srcHdBig': '/upload/img/news-default-large.j...  \n9999  {'srcHdBig': '/upload/img/news-default-large.j...  \n\n[10000 rows x 19 columns]",
      "text/html": "<div>\n<style scoped>\n    .dataframe tbody tr th:only-of-type {\n        vertical-align: middle;\n    }\n\n    .dataframe tbody tr th {\n        vertical-align: top;\n    }\n\n    .dataframe thead th {\n        text-align: right;\n    }\n</style>\n<table border=\"1\" class=\"dataframe\">\n  <thead>\n    <tr style=\"text-align: right;\">\n      <th></th>\n      <th>id</th>\n      <th>title</th>\n      <th>annotation</th>\n      <th>body</th>\n      <th>rubrics</th>\n      <th>rubricsUrlAlias</th>\n      <th>mainTags</th>\n      <th>mainTagsUrlAlias</th>\n      <th>tags</th>\n      <th>tagsUrlAlias</th>\n      <th>authors</th>\n      <th>authorsUrlAlias</th>\n      <th>createdAt</th>\n      <th>publishAt</th>\n      <th>views</th>\n      <th>comments</th>\n      <th>urlAlias</th>\n      <th>blockType</th>\n      <th>teaserImage</th>\n    </tr>\n  </thead>\n  <tbody>\n    <tr>\n      <th>0</th>\n      <td>61050</td>\n      <td>«Цифра» отминусовала финского акционера</td>\n      <td>Из числа совладельцев IT-группы «Цифра» вышла ...</td>\n      <td></td>\n      <td>[Ритейл]</td>\n      <td>[]</td>\n      <td>[PRO Компании]</td>\n      <td>[]</td>\n      <td>[]</td>\n      <td>[]</td>\n      <td></td>\n      <td>[]</td>\n      <td>03.02.2023 17:47</td>\n      <td>03.02.2023 16:00</td>\n      <td>1010</td>\n      <td>0</td>\n      <td>2023/02/03/cifra-otminusovala-finskogo-akcionera</td>\n      <td></td>\n      <td>{'srcHdBig': '/upload/img/news/teaser/63dd1e92...</td>\n    </tr>\n    <tr>\n      <th>1</th>\n      <td>61049</td>\n      <td>Россия готовится к киберучениям</td>\n      <td>Россия проведет новые киберучения в третьем-че...</td>\n      <td></td>\n      <td>[Хостинг]</td>\n      <td>[]</td>\n      <td>[PRO Компании]</td>\n      <td>[]</td>\n      <td>[]</td>\n      <td>[]</td>\n      <td></td>\n      <td>[]</td>\n      <td>03.02.2023 17:20</td>\n      <td>03.02.2023 15:00</td>\n      <td>1103</td>\n      <td>0</td>\n      <td>2023/02/03/rossiya-gotovitsya-k-kiberucheniyam</td>\n      <td></td>\n      <td>{'srcHdBig': '/upload/img/news/teaser/63dd1836...</td>\n    </tr>\n    <tr>\n      <th>2</th>\n      <td>61041</td>\n      <td>Умные счетчики – только российские</td>\n      <td>Уже через год умные приборы учета в России буд...</td>\n      <td></td>\n      <td>[Наука и технологии]</td>\n      <td>[]</td>\n      <td>[PRO Компании]</td>\n      <td>[]</td>\n      <td>[]</td>\n      <td>[]</td>\n      <td></td>\n      <td>[]</td>\n      <td>02.02.2023 18:42</td>\n      <td>02.02.2023 18:40</td>\n      <td>1699</td>\n      <td>0</td>\n      <td>2023/02/02/umnye-schetchiki-tolko-rossiyskie</td>\n      <td></td>\n      <td>{'srcHdBig': '/upload/img/news/teaser/63dbd9f7...</td>\n    </tr>\n    <tr>\n      <th>3</th>\n      <td>61038</td>\n      <td>Евгений Антохов: как «подружить науку с бизнесом»</td>\n      <td>О том, что на самом деле сдерживает коммерциал...</td>\n      <td></td>\n      <td>[Наука и технологии, Идеи]</td>\n      <td>[]</td>\n      <td>[PRO Компании]</td>\n      <td>[]</td>\n      <td>[]</td>\n      <td>[]</td>\n      <td></td>\n      <td>[]</td>\n      <td>02.02.2023 13:22</td>\n      <td>02.02.2023 13:09</td>\n      <td>1660</td>\n      <td>0</td>\n      <td>2023/02/02/evgeniy-antohov-kak-podruzhit-nauku...</td>\n      <td></td>\n      <td>{'srcHdBig': '/upload/img/news/teaser/63db8ecd...</td>\n    </tr>\n    <tr>\n      <th>4</th>\n      <td>61039</td>\n      <td>«Почта России» меняет стратегию</td>\n      <td>«Почта России» в первом квартале 2023 года пре...</td>\n      <td></td>\n      <td>[Ритейл]</td>\n      <td>[]</td>\n      <td>[PRO Компании]</td>\n      <td>[]</td>\n      <td>[]</td>\n      <td>[]</td>\n      <td></td>\n      <td>[]</td>\n      <td>02.02.2023 13:24</td>\n      <td>02.02.2023 13:00</td>\n      <td>1681</td>\n      <td>0</td>\n      <td>2023/02/02/pochta-rossii-menyaet-strategiyu</td>\n      <td></td>\n      <td>{'srcHdBig': '/upload/img/news/teaser/63db8f67...</td>\n    </tr>\n    <tr>\n      <th>...</th>\n      <td>...</td>\n      <td>...</td>\n      <td>...</td>\n      <td>...</td>\n      <td>...</td>\n      <td>...</td>\n      <td>...</td>\n      <td>...</td>\n      <td>...</td>\n      <td>...</td>\n      <td>...</td>\n      <td>...</td>\n      <td>...</td>\n      <td>...</td>\n      <td>...</td>\n      <td>...</td>\n      <td>...</td>\n      <td>...</td>\n      <td>...</td>\n    </tr>\n    <tr>\n      <th>9995</th>\n      <td>31799</td>\n      <td>Инновации для школьников</td>\n      <td>Компания Intel, уже более 10 лет реализующая в...</td>\n      <td></td>\n      <td>[Наука и технологии]</td>\n      <td>[]</td>\n      <td>[PRO Компании]</td>\n      <td>[]</td>\n      <td>[]</td>\n      <td>[]</td>\n      <td></td>\n      <td>[]</td>\n      <td>23.05.2014 07:32</td>\n      <td>23.05.2014 07:32</td>\n      <td>1645</td>\n      <td>0</td>\n      <td>2014/05/23/innovacii-dlya-shkolnikov</td>\n      <td></td>\n      <td>{'srcHdBig': '/upload/img/news-default-large.j...</td>\n    </tr>\n    <tr>\n      <th>9996</th>\n      <td>31798</td>\n      <td>Inoventica поделилась сетью</td>\n      <td>Головная компания группы Inoventica, ЗАО «Комм...</td>\n      <td></td>\n      <td>[Связь]</td>\n      <td>[]</td>\n      <td>[PRO Абонентов]</td>\n      <td>[]</td>\n      <td>[]</td>\n      <td>[]</td>\n      <td></td>\n      <td>[]</td>\n      <td>23.05.2014 07:22</td>\n      <td>23.05.2014 07:22</td>\n      <td>1599</td>\n      <td>0</td>\n      <td>2014/05/23/inoventica-podelilas-setyu</td>\n      <td></td>\n      <td>{'srcHdBig': '/upload/img/news-default-large.j...</td>\n    </tr>\n    <tr>\n      <th>9997</th>\n      <td>31797</td>\n      <td>Sony Xperia Z2: все лучше и лучше.</td>\n      <td>Компания Sony Mobile приняла решение выпускать...</td>\n      <td></td>\n      <td>[Ритейл, Наука и технологии]</td>\n      <td>[]</td>\n      <td>[PRO Компании, Гаджеты]</td>\n      <td>[]</td>\n      <td>[]</td>\n      <td>[]</td>\n      <td></td>\n      <td>[]</td>\n      <td>23.05.2014 07:02</td>\n      <td>23.05.2014 07:02</td>\n      <td>1460</td>\n      <td>0</td>\n      <td>2014/05/23/sony-xperia-z2-vse-luchshe-i-luchshe</td>\n      <td></td>\n      <td>{'srcHdBig': '/upload/img/news-default-large.j...</td>\n    </tr>\n    <tr>\n      <th>9998</th>\n      <td>31789</td>\n      <td>Блогеры перепутали Yota с Yota</td>\n      <td>В рунете разгорается очередной скандал. Вслед ...</td>\n      <td></td>\n      <td>[Связь]</td>\n      <td>[]</td>\n      <td>[PRO Компании]</td>\n      <td>[]</td>\n      <td>[]</td>\n      <td>[]</td>\n      <td></td>\n      <td>[]</td>\n      <td>22.05.2014 08:22</td>\n      <td>22.05.2014 08:22</td>\n      <td>2263</td>\n      <td>0</td>\n      <td>2014/05/22/blogery-pereputali-yota-s-yota</td>\n      <td></td>\n      <td>{'srcHdBig': '/upload/img/news-default-large.j...</td>\n    </tr>\n    <tr>\n      <th>9999</th>\n      <td>31790</td>\n      <td>ФГУПы закупятся по-новому</td>\n      <td>Подведомственные Минкомсвязи \"Почта России\" и ...</td>\n      <td></td>\n      <td>[Связь]</td>\n      <td>[]</td>\n      <td>[PRO Компании, PRO Абонентов]</td>\n      <td>[]</td>\n      <td>[]</td>\n      <td>[]</td>\n      <td></td>\n      <td>[]</td>\n      <td>22.05.2014 08:22</td>\n      <td>22.05.2014 08:22</td>\n      <td>550</td>\n      <td>0</td>\n      <td>2014/05/22/fgupy-zakupyatsya-po-novomu</td>\n      <td></td>\n      <td>{'srcHdBig': '/upload/img/news-default-large.j...</td>\n    </tr>\n  </tbody>\n</table>\n<p>10000 rows × 19 columns</p>\n</div>"
     },
     "execution_count": 203,
     "metadata": {},
     "output_type": "execute_result"
    }
   ],
   "source": [
    "data = pd.DataFrame(news_json)\n",
    "data"
   ],
   "metadata": {
    "collapsed": false
   }
  },
  {
   "cell_type": "code",
   "execution_count": 204,
   "outputs": [
    {
     "name": "stderr",
     "output_type": "stream",
     "text": [
      "C:\\ProgramData\\Anaconda3\\lib\\site-packages\\pandas\\core\\indexing.py:1732: SettingWithCopyWarning: \n",
      "A value is trying to be set on a copy of a slice from a DataFrame\n",
      "\n",
      "See the caveats in the documentation: https://pandas.pydata.org/pandas-docs/stable/user_guide/indexing.html#returning-a-view-versus-a-copy\n",
      "  self._setitem_single_block(indexer, value, name)\n"
     ]
    }
   ],
   "source": [
    "data_clened_telecomdaily = data.drop(['rubricsUrlAlias', 'mainTagsUrlAlias', 'tags', 'tagsUrlAlias', 'authors', 'authorsUrlAlias', 'blockType', 'teaserImage', 'urlAlias', 'comments', 'body'], axis = 1)\n",
    "for i in range(len(data_clened_telecomdaily.mainTags)):\n",
    "    data_clened_telecomdaily.mainTags.iloc[i] = ', '.join(data_clened_telecomdaily.mainTags.iloc[i])\n",
    "\n",
    "\n",
    "for i in range(len(data_clened_telecomdaily.rubrics)):\n",
    "    data_clened_telecomdaily.rubrics.iloc[i] = ', '.join(data_clened_telecomdaily.rubrics.iloc[i])"
   ],
   "metadata": {
    "collapsed": false
   }
  },
  {
   "cell_type": "code",
   "execution_count": 205,
   "outputs": [
    {
     "data": {
      "text/plain": "         id                                              title  \\\n0     61050            «Цифра» отминусовала финского акционера   \n1     61049                    Россия готовится к киберучениям   \n2     61041                 Умные счетчики – только российские   \n3     61038  Евгений Антохов: как «подружить науку с бизнесом»   \n4     61039                    «Почта России» меняет стратегию   \n...     ...                                                ...   \n9995  31799                           Инновации для школьников   \n9996  31798                        Inoventica поделилась сетью   \n9997  31797                 Sony Xperia Z2: все лучше и лучше.   \n9998  31789                     Блогеры перепутали Yota с Yota   \n9999  31790                          ФГУПы закупятся по-новому   \n\n                                             annotation  \\\n0     Из числа совладельцев IT-группы «Цифра» вышла ...   \n1     Россия проведет новые киберучения в третьем-че...   \n2     Уже через год умные приборы учета в России буд...   \n3     О том, что на самом деле сдерживает коммерциал...   \n4     «Почта России» в первом квартале 2023 года пре...   \n...                                                 ...   \n9995  Компания Intel, уже более 10 лет реализующая в...   \n9996  Головная компания группы Inoventica, ЗАО «Комм...   \n9997  Компания Sony Mobile приняла решение выпускать...   \n9998  В рунете разгорается очередной скандал. Вслед ...   \n9999  Подведомственные Минкомсвязи \"Почта России\" и ...   \n\n                         rubrics                     mainTags  \\\n0                         Ритейл                 PRO Компании   \n1                        Хостинг                 PRO Компании   \n2             Наука и технологии                 PRO Компании   \n3       Наука и технологии, Идеи                 PRO Компании   \n4                         Ритейл                 PRO Компании   \n...                          ...                          ...   \n9995          Наука и технологии                 PRO Компании   \n9996                       Связь                PRO Абонентов   \n9997  Ритейл, Наука и технологии        PRO Компании, Гаджеты   \n9998                       Связь                 PRO Компании   \n9999                       Связь  PRO Компании, PRO Абонентов   \n\n             createdAt         publishAt  views  \n0     03.02.2023 17:47  03.02.2023 16:00   1010  \n1     03.02.2023 17:20  03.02.2023 15:00   1103  \n2     02.02.2023 18:42  02.02.2023 18:40   1699  \n3     02.02.2023 13:22  02.02.2023 13:09   1660  \n4     02.02.2023 13:24  02.02.2023 13:00   1681  \n...                ...               ...    ...  \n9995  23.05.2014 07:32  23.05.2014 07:32   1645  \n9996  23.05.2014 07:22  23.05.2014 07:22   1599  \n9997  23.05.2014 07:02  23.05.2014 07:02   1460  \n9998  22.05.2014 08:22  22.05.2014 08:22   2263  \n9999  22.05.2014 08:22  22.05.2014 08:22    550  \n\n[10000 rows x 8 columns]",
      "text/html": "<div>\n<style scoped>\n    .dataframe tbody tr th:only-of-type {\n        vertical-align: middle;\n    }\n\n    .dataframe tbody tr th {\n        vertical-align: top;\n    }\n\n    .dataframe thead th {\n        text-align: right;\n    }\n</style>\n<table border=\"1\" class=\"dataframe\">\n  <thead>\n    <tr style=\"text-align: right;\">\n      <th></th>\n      <th>id</th>\n      <th>title</th>\n      <th>annotation</th>\n      <th>rubrics</th>\n      <th>mainTags</th>\n      <th>createdAt</th>\n      <th>publishAt</th>\n      <th>views</th>\n    </tr>\n  </thead>\n  <tbody>\n    <tr>\n      <th>0</th>\n      <td>61050</td>\n      <td>«Цифра» отминусовала финского акционера</td>\n      <td>Из числа совладельцев IT-группы «Цифра» вышла ...</td>\n      <td>Ритейл</td>\n      <td>PRO Компании</td>\n      <td>03.02.2023 17:47</td>\n      <td>03.02.2023 16:00</td>\n      <td>1010</td>\n    </tr>\n    <tr>\n      <th>1</th>\n      <td>61049</td>\n      <td>Россия готовится к киберучениям</td>\n      <td>Россия проведет новые киберучения в третьем-че...</td>\n      <td>Хостинг</td>\n      <td>PRO Компании</td>\n      <td>03.02.2023 17:20</td>\n      <td>03.02.2023 15:00</td>\n      <td>1103</td>\n    </tr>\n    <tr>\n      <th>2</th>\n      <td>61041</td>\n      <td>Умные счетчики – только российские</td>\n      <td>Уже через год умные приборы учета в России буд...</td>\n      <td>Наука и технологии</td>\n      <td>PRO Компании</td>\n      <td>02.02.2023 18:42</td>\n      <td>02.02.2023 18:40</td>\n      <td>1699</td>\n    </tr>\n    <tr>\n      <th>3</th>\n      <td>61038</td>\n      <td>Евгений Антохов: как «подружить науку с бизнесом»</td>\n      <td>О том, что на самом деле сдерживает коммерциал...</td>\n      <td>Наука и технологии, Идеи</td>\n      <td>PRO Компании</td>\n      <td>02.02.2023 13:22</td>\n      <td>02.02.2023 13:09</td>\n      <td>1660</td>\n    </tr>\n    <tr>\n      <th>4</th>\n      <td>61039</td>\n      <td>«Почта России» меняет стратегию</td>\n      <td>«Почта России» в первом квартале 2023 года пре...</td>\n      <td>Ритейл</td>\n      <td>PRO Компании</td>\n      <td>02.02.2023 13:24</td>\n      <td>02.02.2023 13:00</td>\n      <td>1681</td>\n    </tr>\n    <tr>\n      <th>...</th>\n      <td>...</td>\n      <td>...</td>\n      <td>...</td>\n      <td>...</td>\n      <td>...</td>\n      <td>...</td>\n      <td>...</td>\n      <td>...</td>\n    </tr>\n    <tr>\n      <th>9995</th>\n      <td>31799</td>\n      <td>Инновации для школьников</td>\n      <td>Компания Intel, уже более 10 лет реализующая в...</td>\n      <td>Наука и технологии</td>\n      <td>PRO Компании</td>\n      <td>23.05.2014 07:32</td>\n      <td>23.05.2014 07:32</td>\n      <td>1645</td>\n    </tr>\n    <tr>\n      <th>9996</th>\n      <td>31798</td>\n      <td>Inoventica поделилась сетью</td>\n      <td>Головная компания группы Inoventica, ЗАО «Комм...</td>\n      <td>Связь</td>\n      <td>PRO Абонентов</td>\n      <td>23.05.2014 07:22</td>\n      <td>23.05.2014 07:22</td>\n      <td>1599</td>\n    </tr>\n    <tr>\n      <th>9997</th>\n      <td>31797</td>\n      <td>Sony Xperia Z2: все лучше и лучше.</td>\n      <td>Компания Sony Mobile приняла решение выпускать...</td>\n      <td>Ритейл, Наука и технологии</td>\n      <td>PRO Компании, Гаджеты</td>\n      <td>23.05.2014 07:02</td>\n      <td>23.05.2014 07:02</td>\n      <td>1460</td>\n    </tr>\n    <tr>\n      <th>9998</th>\n      <td>31789</td>\n      <td>Блогеры перепутали Yota с Yota</td>\n      <td>В рунете разгорается очередной скандал. Вслед ...</td>\n      <td>Связь</td>\n      <td>PRO Компании</td>\n      <td>22.05.2014 08:22</td>\n      <td>22.05.2014 08:22</td>\n      <td>2263</td>\n    </tr>\n    <tr>\n      <th>9999</th>\n      <td>31790</td>\n      <td>ФГУПы закупятся по-новому</td>\n      <td>Подведомственные Минкомсвязи \"Почта России\" и ...</td>\n      <td>Связь</td>\n      <td>PRO Компании, PRO Абонентов</td>\n      <td>22.05.2014 08:22</td>\n      <td>22.05.2014 08:22</td>\n      <td>550</td>\n    </tr>\n  </tbody>\n</table>\n<p>10000 rows × 8 columns</p>\n</div>"
     },
     "execution_count": 205,
     "metadata": {},
     "output_type": "execute_result"
    }
   ],
   "source": [
    "data_clened_telecomdaily"
   ],
   "metadata": {
    "collapsed": false
   }
  },
  {
   "cell_type": "code",
   "execution_count": 206,
   "outputs": [],
   "source": [
    "data_clened_telecomdaily.to_excel('telecomdaily_news.xlsx')"
   ],
   "metadata": {
    "collapsed": false
   }
  },
  {
   "cell_type": "markdown",
   "source": [
    "# Парсим Iksmedia"
   ],
   "metadata": {
    "collapsed": false
   }
  },
  {
   "cell_type": "code",
   "execution_count": 207,
   "outputs": [],
   "source": [
    "from bs4 import BeautifulSoup\n",
    "xmedia_data: DataFrame = pd.DataFrame(columns=['title', 'date', 'content'])\n",
    "news = []\n",
    "n = 1500\n",
    "for i in range(1, n):\n",
    "    resp = r.get(f'https://www.iksmedia.ru/news/news_otrasli/page{i}.html')\n",
    "    soup = BeautifulSoup(resp.text, 'html.parser')\n",
    "    for j in range(len(soup.find_all('p', {\"class\": \"ndt\"}))):\n",
    "        xmedia_data = xmedia_data.append({'date': soup.find_all('p', {\"class\": \"ndt\"})[j].getText(),\n",
    "                                          'title': soup.find_all('a', {\"class\": \"zagl2\"})[j].getText(strip=True),}\n",
    "                                         ,ignore_index=True)\n",
    "\n",
    "\n",
    "\n",
    "\n",
    "\n",
    "    for z in range(2, len(soup.find_all('p')), 2):\n",
    "        news.append(soup.find_all('p')[z].getText(strip=True))\n",
    "\n",
    "    xmedia_data.content = news\n",
    "    # print(f'Выполнено: {i} из {n}') Если нужен счетчик, уберите комментарий"
   ],
   "metadata": {
    "collapsed": false
   }
  },
  {
   "cell_type": "code",
   "execution_count": 208,
   "outputs": [
    {
     "data": {
      "text/plain": "                                                   title        date  \\\n0      На следующей неделе истекает срок подачи заявк...  03.02.2023   \n1      Разработан проект методики расчета тарифов на ...  03.02.2023   \n2      В 2022 году в 5 раз выросло число клиентов Axi...  03.02.2023   \n3                      Жители Москвы переходят на iPhone  03.02.2023   \n4      Российских операторов связи будут штрафовать з...  03.02.2023   \n...                                                  ...         ...   \n22480                                      Альянс девяти  15.02.2016   \n22481                    Rutracker остался с \"зеркалами\"  15.02.2016   \n22482  Количество запросов в СМЭВ в 2015 году выросло...  15.02.2016   \n22483    Раскрыта дата начала продаж новых iPhone и iPad  15.02.2016   \n22484  Google отказался от технологии, ускоряющей инт...  15.02.2016   \n\n                                                 content  \n0      Сотрудникам аккредитованных ИТ-компаний нужно ...  \n1      Предполагается, что Методика будет применяться...  \n2      Российская компания БЕЛЛСОФТ объявляет, что по...  \n3      МТС проанализировала устройства, которыми поль...  \n4      С 1 февраля 2023 года вступили в силу поправки...  \n...                                                  ...  \n22480  МТС, British\\r\\nTelecom, Deutsche Telekom, JIO...  \n22481  Суд решил не блокировать \"зеркала\" торрента Ru...  \n22482  Министерство связи и массовых коммуникаций Рос...  \n22483  Презентация новых iPhone 5se и iPad Air 3 запл...  \n22484  Компания Google отказалась поддерживать в Goog...  \n\n[22485 rows x 3 columns]",
      "text/html": "<div>\n<style scoped>\n    .dataframe tbody tr th:only-of-type {\n        vertical-align: middle;\n    }\n\n    .dataframe tbody tr th {\n        vertical-align: top;\n    }\n\n    .dataframe thead th {\n        text-align: right;\n    }\n</style>\n<table border=\"1\" class=\"dataframe\">\n  <thead>\n    <tr style=\"text-align: right;\">\n      <th></th>\n      <th>title</th>\n      <th>date</th>\n      <th>content</th>\n    </tr>\n  </thead>\n  <tbody>\n    <tr>\n      <th>0</th>\n      <td>На следующей неделе истекает срок подачи заявк...</td>\n      <td>03.02.2023</td>\n      <td>Сотрудникам аккредитованных ИТ-компаний нужно ...</td>\n    </tr>\n    <tr>\n      <th>1</th>\n      <td>Разработан проект методики расчета тарифов на ...</td>\n      <td>03.02.2023</td>\n      <td>Предполагается, что Методика будет применяться...</td>\n    </tr>\n    <tr>\n      <th>2</th>\n      <td>В 2022 году в 5 раз выросло число клиентов Axi...</td>\n      <td>03.02.2023</td>\n      <td>Российская компания БЕЛЛСОФТ объявляет, что по...</td>\n    </tr>\n    <tr>\n      <th>3</th>\n      <td>Жители Москвы переходят на iPhone</td>\n      <td>03.02.2023</td>\n      <td>МТС проанализировала устройства, которыми поль...</td>\n    </tr>\n    <tr>\n      <th>4</th>\n      <td>Российских операторов связи будут штрафовать з...</td>\n      <td>03.02.2023</td>\n      <td>С 1 февраля 2023 года вступили в силу поправки...</td>\n    </tr>\n    <tr>\n      <th>...</th>\n      <td>...</td>\n      <td>...</td>\n      <td>...</td>\n    </tr>\n    <tr>\n      <th>22480</th>\n      <td>Альянс девяти</td>\n      <td>15.02.2016</td>\n      <td>МТС, British\\r\\nTelecom, Deutsche Telekom, JIO...</td>\n    </tr>\n    <tr>\n      <th>22481</th>\n      <td>Rutracker остался с \"зеркалами\"</td>\n      <td>15.02.2016</td>\n      <td>Суд решил не блокировать \"зеркала\" торрента Ru...</td>\n    </tr>\n    <tr>\n      <th>22482</th>\n      <td>Количество запросов в СМЭВ в 2015 году выросло...</td>\n      <td>15.02.2016</td>\n      <td>Министерство связи и массовых коммуникаций Рос...</td>\n    </tr>\n    <tr>\n      <th>22483</th>\n      <td>Раскрыта дата начала продаж новых iPhone и iPad</td>\n      <td>15.02.2016</td>\n      <td>Презентация новых iPhone 5se и iPad Air 3 запл...</td>\n    </tr>\n    <tr>\n      <th>22484</th>\n      <td>Google отказался от технологии, ускоряющей инт...</td>\n      <td>15.02.2016</td>\n      <td>Компания Google отказалась поддерживать в Goog...</td>\n    </tr>\n  </tbody>\n</table>\n<p>22485 rows × 3 columns</p>\n</div>"
     },
     "execution_count": 208,
     "metadata": {},
     "output_type": "execute_result"
    }
   ],
   "source": [
    "xmedia_data"
   ],
   "metadata": {
    "collapsed": false
   }
  },
  {
   "cell_type": "code",
   "execution_count": 209,
   "outputs": [],
   "source": [
    "xmedia_data.to_excel('xmedia.xlsx')"
   ],
   "metadata": {
    "collapsed": false
   }
  }
 ],
 "metadata": {
  "kernelspec": {
   "display_name": "Python 3",
   "language": "python",
   "name": "python3"
  },
  "language_info": {
   "codemirror_mode": {
    "name": "ipython",
    "version": 2
   },
   "file_extension": ".py",
   "mimetype": "text/x-python",
   "name": "python",
   "nbconvert_exporter": "python",
   "pygments_lexer": "ipython2",
   "version": "2.7.6"
  }
 },
 "nbformat": 4,
 "nbformat_minor": 0
}
